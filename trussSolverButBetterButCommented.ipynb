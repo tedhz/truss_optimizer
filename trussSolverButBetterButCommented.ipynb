{
 "cells": [
  {
   "cell_type": "code",
   "execution_count": 69,
   "metadata": {},
   "outputs": [],
   "source": [
    "import numpy as np\n",
    "import math\n",
    "from sympy import *\n",
    "import scipy.optimize as optimize"
   ]
  },
  {
   "cell_type": "code",
   "execution_count": 70,
   "metadata": {},
   "outputs": [],
   "source": [
    "tensForceMax = 12\n",
    "compForceMax = 8\n",
    "costPerM = 15"
   ]
  },
  {
   "cell_type": "code",
   "execution_count": 71,
   "metadata": {},
   "outputs": [],
   "source": [
    "def toVector(v):\n",
    "    return np.hstack([v.flatten()])"
   ]
  },
  {
   "cell_type": "code",
   "execution_count": 72,
   "metadata": {},
   "outputs": [],
   "source": [
    "def toMatrix(vec):\n",
    "    return np.reshape(vec, (5,2))"
   ]
  },
  {
   "cell_type": "code",
   "execution_count": 73,
   "metadata": {},
   "outputs": [],
   "source": [
    "def solveTruss(elementsInsert):\n",
    "\n",
    "    elements2np = toMatrix(elementsInsert)\n",
    "    elements2 = elements2np.tolist() #list for non-fixed points below road\n",
    "\n",
    "    #inputs\n",
    "\n",
    "    #fixed road points, change accordingly, [x,y] format\n",
    "    elements1 = [[0,0],[3,0],[6,0],[9,0],[12,0],[15,0]]\n",
    "\n",
    "    #ops on inputs\n",
    "    elements = elements1 + elements2 #joint numbers are based on their position in this list e.g. joint 0 is elements[0]\n",
    "\n",
    "    #connections between joints [joint1, joint2].\n",
    "    joints=[[0,1],[1,2],[2,3],[3,4],[4,5],[5,10],[10,8],[8,6],[6,7],[7,9],[9,0],[1,9],[1,7],[7,2],[2,6],[6,3],[3,8],[8,4],[4,10]]\n",
    "\n",
    "    #loads from left to right. Adjust accordingly\n",
    "    loads = [-7.5/2,-15/2,-15/2,-15/2,-15/2,-7.5/2]\n",
    "\n",
    "    #supports, ask thomas how this works lol\n",
    "    supports = [[\"s\",0,0],[\"s\",0,1],[\"s\",5,1]]\n",
    "\n",
    "    \n",
    "\n",
    "    combined = joints + supports\n",
    "    size = (len(elements)*2, len(elements)*2)\n",
    "    matrix = np.zeros(size)\n",
    "    lenTooSmall = False\n",
    "    distances = []\n",
    "\n",
    "    for i in range(len(combined)):\n",
    "        if(len(combined[i]) == 2):\n",
    "            diffX = elements[combined[i][1]][0]-elements[combined[i][0]][0]\n",
    "            diffY = elements[combined[i][1]][1]-elements[combined[i][0]][1]\n",
    "\n",
    "            distance = np.sqrt(diffX*diffX + diffY*diffY)\n",
    "            if(distance < 1):\n",
    "                lenTooSmall = True\n",
    "                break\n",
    "            else:\n",
    "                distances.append(distance)\n",
    "            \n",
    "            angle = np.arctan2(diffY, diffX)\n",
    "            matrix[2*combined[i][0]][i] = np.cos(angle)\n",
    "            matrix[2*combined[i][0]+1][i] = np.sin(angle)\n",
    "            matrix[2*combined[i][1]][i] = np.cos(angle + np.pi)\n",
    "            matrix[2*combined[i][1]+1][i] = np.sin(angle + np.pi)\n",
    "        else:\n",
    "            if combined[i][1] == 0:\n",
    "                matrix[2*combined[i][1]][i] = 1\n",
    "            if combined[i][2] == 1:\n",
    "                matrix[2*combined[i][1]+1][i] = 1\n",
    "    \n",
    "    if(lenTooSmall):\n",
    "        return 100000000\n",
    "\n",
    "    forces = np.zeros(len(elements)*2)\n",
    "    for i in range(len(loads)):\n",
    "        forces[2*i+1] = loads[i]\n",
    "    try:\n",
    "        answer = np.linalg.solve(matrix,forces)\n",
    "    except:\n",
    "        return 100000000\n",
    "    # print(solvedEquation)\n",
    "    # print(distances, len(distances))\n",
    "    totalCost = 0\n",
    "\n",
    "    for i in range(len(answer)-3):\n",
    "        memberForce = answer[i]\n",
    "        memberValue = \"(T)\" if memberForce < 0 else \"(C)\"\n",
    "        memberForce = -1*memberForce\n",
    "        if i < len(elements)*2:\n",
    "            numJoints = (math.ceil(memberForce/tensForceMax) if memberForce > 0 else math.ceil(-memberForce/compForceMax))\n",
    "            if numJoints > 4:\n",
    "                return 100000000\n",
    "            memberCost = distances[i] * costPerM * numJoints\n",
    "            totalCost += memberCost\n",
    "            # print(distances[i], memberCost, memberForce)\n",
    "        # print(\"Member \" , i , \":\", memberForce, memberValue, numJoints)\n",
    "\n",
    "    totalCost += len(elements)*5\n",
    "    return totalCost"
   ]
  },
  {
   "cell_type": "code",
   "execution_count": 74,
   "metadata": {},
   "outputs": [],
   "source": [
    "x1 = 4.5\n",
    "y1 = -4\n",
    "x2 = 1.5\n",
    "y2 = -2\n",
    "y3 = -5\n",
    "maxWidth = 15\n",
    "\n",
    "#[x,y] format, example input to solveTruss function\n",
    "non_fixed_pts = np.array([[7.5,-5],[4.5,-4],[10.5,-4],[1.5,-2],[13.5,-2]])\n",
    "non_fixed_pts = np.array(toVector(non_fixed_pts), dtype=float) #<----- this is what will be inputted i.e. a flattened matrix"
   ]
  },
  {
   "cell_type": "code",
   "execution_count": 75,
   "metadata": {},
   "outputs": [],
   "source": [
    "\n",
    "bounds = [(0, 15), (-50, 0), (0, 15), (-50, 0), (0, 15), (-50, 0), (0, 15), (-50, 0), (0, 15), (-50, 0),]\n",
    "#add more bounds for each point you add. (0,15) for x, (-50, 0 for y). For ex, adding another pair would result in adding (0, 15), (-50, 0), to the end of the list.\n",
    "\n",
    "result = optimize.differential_evolution(solveTruss, bounds)"
   ]
  },
  {
   "cell_type": "code",
   "execution_count": 76,
   "metadata": {},
   "outputs": [
    {
     "name": "stdout",
     "output_type": "stream",
     "text": [
      "[ 7.62902847 -4.22805163  2.47344956 -2.64173768 12.41646119 -2.76486058\n",
      "  0.44982925 -0.93635582 14.40520817 -1.1440536 ]\n"
     ]
    }
   ],
   "source": [
    "print(result.x)\n",
    "#results are read x y x y x y etc. \n",
    "#the results are the non-fixed points below the road. "
   ]
  },
  {
   "cell_type": "code",
   "execution_count": 77,
   "metadata": {},
   "outputs": [
    {
     "data": {
      "text/plain": [
       "1382.9146568235892"
      ]
     },
     "execution_count": 77,
     "metadata": {},
     "output_type": "execute_result"
    }
   ],
   "source": [
    "solveTruss(result.x)"
   ]
  },
  {
   "cell_type": "code",
   "execution_count": 78,
   "metadata": {},
   "outputs": [
    {
     "name": "stdout",
     "output_type": "stream",
     "text": [
      "0 1379.8059449633015\n",
      "1379.8059449633015 [ 7.4160194  -4.3140465   2.36637898 -2.5224016  12.57543623 -2.54663712\n",
      "  0.49635319 -0.96126099 14.50113469 -0.94285283]\n",
      "1 1389.3982122762086\n",
      "2 1398.8181838727403\n",
      "3 1387.8536378510516\n",
      "4 1406.6467754020869\n",
      "5 1397.0761685251787\n",
      "6 1393.4730933083954\n",
      "7 1392.6185455563605\n",
      "8 1396.9625239371353\n",
      "9 1400.8599563741368\n",
      "10 1387.1819075298472\n",
      "11 1405.1965193216665\n",
      "12 1390.5516499108996\n",
      "13 1390.5166719829276\n",
      "14 1391.9476963879956\n",
      "15 1395.6322860091839\n",
      "16 1387.149556959675\n",
      "17 1380.8822392087302\n",
      "18 1408.2870185243385\n",
      "19 1389.6943777178894\n",
      "20 1399.8972282477841\n",
      "21 1391.0567876321957\n",
      "22 1397.792274608095\n",
      "23 1392.3561423575768\n",
      "24 1384.0528720023083\n",
      "25 1392.1783488201309\n",
      "26 1388.3871240444228\n",
      "27 1387.4791389359834\n",
      "28 1383.1464882227203\n",
      "29 1382.2724300878783\n",
      "30 1383.7171022076964\n",
      "31 1389.8779589538706\n",
      "32 1387.6800365547508\n",
      "33 1394.3791068380226\n",
      "34 1412.2699851243565\n",
      "35 1401.3105415784207\n",
      "36 1395.0795003359433\n",
      "37 1394.3781145472947\n",
      "38 1395.0172063691166\n",
      "39 1386.3452343045965\n",
      "40 1392.9537763359342\n",
      "41 1384.6279603242813\n",
      "42 1387.4441694498478\n",
      "43 1399.7189633211028\n",
      "44 1392.3664083573783\n",
      "45 1384.196469631342\n",
      "46 1390.3453394208232\n",
      "47 1394.4309324506041\n",
      "48 1396.329483804968\n",
      "49 1390.6036009055001\n",
      "50 1396.1395287081027\n",
      "51 1385.3390184303491\n",
      "52 1388.5289546054184\n",
      "53 1384.191709607377\n",
      "54 1386.2469119620587\n",
      "55 1398.3640114995856\n",
      "56 1389.7959658181273\n",
      "57 1414.6715432696114\n",
      "58 1403.9632902576818\n",
      "59 1383.4671346858702\n",
      "60 1384.0443126770247\n",
      "61 1392.809892222823\n",
      "62 1393.7886199230395\n",
      "63 1409.7661052193998\n",
      "64 1392.111098550756\n",
      "65 1395.0845129813595\n",
      "66 1396.4781835727867\n",
      "67 1382.519994109664\n",
      "68 1387.8802733770976\n",
      "69 1402.6205194705371\n",
      "70 1384.863043367487\n",
      "71 1404.3646890026755\n",
      "72 1396.4121392275354\n",
      "73 1391.5012620506043\n",
      "74 1393.3250014546165\n",
      "75 1397.9270249113683\n",
      "76 1378.7027672161453\n",
      "1378.7027672161453 [ 7.90764558 -4.22271329  2.17378697 -2.42847551 12.20611936 -2.79392335\n",
      "  0.64143497 -1.22895674 14.49733596 -0.9467039 ]\n",
      "77 1402.4439276247144\n",
      "78 1389.6662430238898\n",
      "79 1399.7950592405207\n",
      "80 1386.5289527877924\n",
      "81 1404.0476824425843\n",
      "82 1394.160803948938\n",
      "83 1396.7606994604128\n",
      "84 1385.045122155473\n",
      "85 1388.7462155202788\n",
      "86 1396.5038120013091\n",
      "87 1389.7150744278206\n",
      "88 1390.0674743986667\n",
      "89 1383.4360237073338\n",
      "90 1401.1177011146506\n",
      "91 1406.2308164908459\n",
      "92 1393.7214023562326\n",
      "93 1404.109593508405\n",
      "94 1404.3043656279685\n",
      "95 1388.1475737277442\n",
      "96 1395.3300058604527\n",
      "97 1393.1096941829326\n",
      "98 1380.4406893707353\n",
      "99 1391.6533618187404\n"
     ]
    }
   ],
   "source": [
    "# lowestCost = 1000000\n",
    "# points = []\n",
    "\n",
    "# for i in range(100):\n",
    "#     print(i, end=\" \")\n",
    "#     result = optimize.differential_evolution(solveTruss, bounds)\n",
    "#     currCost = solveTruss(result.x)\n",
    "#     print(currCost)\n",
    "#     if(currCost < lowestCost):\n",
    "#         lowestCost = currCost\n",
    "#         points = result.x\n",
    "#         print(lowestCost, points)"
   ]
  }
 ],
 "metadata": {
  "kernelspec": {
   "display_name": "Python 3.10.5 64-bit",
   "language": "python",
   "name": "python3"
  },
  "language_info": {
   "codemirror_mode": {
    "name": "ipython",
    "version": 3
   },
   "file_extension": ".py",
   "mimetype": "text/x-python",
   "name": "python",
   "nbconvert_exporter": "python",
   "pygments_lexer": "ipython3",
   "version": "3.10.5"
  },
  "orig_nbformat": 4,
  "vscode": {
   "interpreter": {
    "hash": "aee8b7b246df8f9039afb4144a1f6fd8d2ca17a180786b69acc140d282b71a49"
   }
  }
 },
 "nbformat": 4,
 "nbformat_minor": 2
}
